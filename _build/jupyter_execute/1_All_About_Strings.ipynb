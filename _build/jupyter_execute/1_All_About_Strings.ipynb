{
 "cells": [
  {
   "cell_type": "markdown",
   "metadata": {
    "rise": {
     "autolaunch": true
    },
    "slideshow": {
     "slide_type": "slide"
    }
   },
   "source": [
    "# Algebra of Strings"
   ]
  },
  {
   "cell_type": "markdown",
   "metadata": {
    "slideshow": {
     "slide_type": "-"
    }
   },
   "source": [
    "While using python scripting in our spatial analysis, we will be using a lot of unicode characters. Strings can be any characters (letters, numbers, symbols, and what not) but python will know that they are string when we use ```\" \"``` quotaton marks. In the below example, we will see how we can combine several strings and print the output. \n",
    "You can joining two strings using ```addition(+)``` operation"
   ]
  },
  {
   "cell_type": "code",
   "execution_count": 2,
   "metadata": {
    "slideshow": {
     "slide_type": "-"
    }
   },
   "outputs": [
    {
     "name": "stdout",
     "output_type": "stream",
     "text": [
      "I love GIS\n"
     ]
    }
   ],
   "source": [
    "a = \"I\"\n",
    "d= \" \"\n",
    "b = \"love\"\n",
    "c = \"GIS\"\n",
    "print(a+d+b+d+c)"
   ]
  },
  {
   "cell_type": "markdown",
   "metadata": {},
   "source": [
    "Notice how the variable ```d``` is holding only empty space as a value. The string addition is referred as **string concatenation**. It might be very useful when you need to add file names to file paths."
   ]
  },
  {
   "cell_type": "markdown",
   "metadata": {
    "slideshow": {
     "slide_type": "subslide"
    }
   },
   "source": [
    "Strings can contain numeric characters as well. However, we should be careful to convert any number to integer before combining them:"
   ]
  },
  {
   "cell_type": "code",
   "execution_count": 3,
   "metadata": {
    "slideshow": {
     "slide_type": "-"
    }
   },
   "outputs": [
    {
     "name": "stdout",
     "output_type": "stream",
     "text": [
      "The temperature is 30 Celcius degrees today!\n"
     ]
    }
   ],
   "source": [
    "temp = \"30\"\n",
    "print ( \"The temperature is \" +temp+ \" Celcius degrees today!\")"
   ]
  },
  {
   "cell_type": "markdown",
   "metadata": {
    "slideshow": {
     "slide_type": "subslide"
    }
   },
   "source": [
    "OK, let's use str() then"
   ]
  },
  {
   "cell_type": "code",
   "execution_count": 4,
   "metadata": {
    "slideshow": {
     "slide_type": "-"
    }
   },
   "outputs": [
    {
     "name": "stdout",
     "output_type": "stream",
     "text": [
      "The temperature is 30 Celcius degrees today!\n",
      "And yes, I like Celcius better than Fahrenheit!\n"
     ]
    }
   ],
   "source": [
    "temp = 30\n",
    "print (\"The temperature is \" + str(temp)+ \" Celcius degrees today!\")\n",
    "print (\"And yes, I like Celcius better than Fahrenheit!\")"
   ]
  },
  {
   "cell_type": "markdown",
   "metadata": {
    "slideshow": {
     "slide_type": "slide"
    }
   },
   "source": [
    "UTF-8 contains 1.1 million different character codes that enable us to any character we want in our prints! Hmm, why not to try to write my surname properly then:)"
   ]
  },
  {
   "cell_type": "code",
   "execution_count": 5,
   "metadata": {
    "slideshow": {
     "slide_type": "-"
    }
   },
   "outputs": [
    {
     "name": "stdout",
     "output_type": "stream",
     "text": [
      "Hello! My name is Seda Şalap Ayça\n",
      "Ş is read as sh sound\n",
      "ç is read as ch sound\n"
     ]
    }
   ],
   "source": [
    "print (\"Hello! My name is Seda \\u015ealap Ay\\u00e7a\")\n",
    "print(\"\\u015e is read as sh sound\")\n",
    "print(\"\\u00e7 is read as ch sound\")\n",
    "\n",
    "#source : http://sercanulucan.com/archive/unicode-utf8/"
   ]
  },
  {
   "cell_type": "markdown",
   "metadata": {
    "slideshow": {
     "slide_type": "-"
    }
   },
   "source": [
    "Addition is not the algebric operation that works on strings. You can also use ```multiplication```! The below code enables you to print a string multiple times:"
   ]
  },
  {
   "cell_type": "code",
   "execution_count": 4,
   "metadata": {
    "slideshow": {
     "slide_type": "-"
    }
   },
   "outputs": [
    {
     "name": "stdout",
     "output_type": "stream",
     "text": [
      "How many times you need to repeat:5\n",
      "Python\n",
      "Python\n",
      "Python\n",
      "Python\n",
      "Python\n",
      "\n"
     ]
    }
   ],
   "source": [
    "n= int(input(\"How many times you need to repeat:\"))\n",
    "my_string = \"Python\\n\"\n",
    "print(my_string*n)"
   ]
  },
  {
   "cell_type": "markdown",
   "metadata": {
    "slideshow": {
     "slide_type": "slide"
    }
   },
   "source": [
    "We don't have divide for strings, but we can split them! Let's use ```split``` function in action:"
   ]
  },
  {
   "cell_type": "code",
   "execution_count": 5,
   "metadata": {
    "slideshow": {
     "slide_type": "-"
    }
   },
   "outputs": [
    {
     "name": "stdout",
     "output_type": "stream",
     "text": [
      "['This', 'is', 'a', 'string', 'in', 'Python']\n"
     ]
    }
   ],
   "source": [
    "my_string = \"This is a string in Python\"\n",
    "my_list = my_string.split(' ')\n",
    "print(my_list)"
   ]
  }
 ],
 "metadata": {
  "celltoolbar": "Raw Cell Format",
  "kernelspec": {
   "display_name": "Python 3 (ipykernel)",
   "language": "python",
   "name": "python3"
  },
  "language_info": {
   "codemirror_mode": {
    "name": "ipython",
    "version": 3
   },
   "file_extension": ".py",
   "mimetype": "text/x-python",
   "name": "python",
   "nbconvert_exporter": "python",
   "pygments_lexer": "ipython3",
   "version": "3.7.12"
  }
 },
 "nbformat": 4,
 "nbformat_minor": 2
}